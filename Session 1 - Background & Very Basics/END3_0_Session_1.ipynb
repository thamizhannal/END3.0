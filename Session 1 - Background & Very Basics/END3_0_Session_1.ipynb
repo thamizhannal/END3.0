{
  "nbformat": 4,
  "nbformat_minor": 0,
  "metadata": {
    "colab": {
      "name": "END3_0_Session_1.ipynb",
      "provenance": [],
      "collapsed_sections": []
    },
    "kernelspec": {
      "name": "python3",
      "display_name": "Python 3"
    },
    "language_info": {
      "name": "python"
    }
  },
  "cells": [
    {
      "cell_type": "code",
      "metadata": {
        "colab": {
          "base_uri": "https://localhost:8080/"
        },
        "id": "GC_6PeobwwkH",
        "outputId": "bff91dd5-2163-441f-f1e3-faa8d1ae7f89"
      },
      "source": [
        "# Import pytorch packages\n",
        "import torch\n",
        "from torch.autograd import Variable\n",
        "import torch.nn as nn\n",
        "import torch.nn.functional as F\n",
        "import torch.optim as optim\n",
        "import numpy as np\n",
        "import matplotlib.pyplot as plt\n",
        "%matplotlib inline\n",
        "torch.manual_seed(2)"
      ],
      "execution_count": 50,
      "outputs": [
        {
          "output_type": "execute_result",
          "data": {
            "text/plain": [
              "<torch._C.Generator at 0x7f541cc516d0>"
            ]
          },
          "metadata": {},
          "execution_count": 50
        }
      ]
    },
    {
      "cell_type": "code",
      "metadata": {
        "id": "bL64bMTkw2GP"
      },
      "source": [
        "# Initialize input and output variables\n",
        "X = torch.Tensor([[0,0], [0,1], [1,0], [1,1]])\n",
        "Y = torch.Tensor([0, 1, 1, 0]).view(-1,1)"
      ],
      "execution_count": 51,
      "outputs": []
    },
    {
      "cell_type": "code",
      "metadata": {
        "id": "aC82kEAIw3Wf"
      },
      "source": [
        "# Define neural network\n",
        "class XOR(nn.Module):\n",
        "    def __init__(self, input_dim = 2, output_dim=1):\n",
        "        super(XOR, self).__init__()\n",
        "        self.lin1 = nn.Linear(input_dim, 4, bias=False)\n",
        "        self.lin2 = nn.Linear(4, 4, bias=False)\n",
        "        self.lin3 = nn.Linear(4, 4, bias=False)\n",
        "        self.lin4 = nn.Linear(4, output_dim, bias=False)\n",
        "    \n",
        "    def forward(self, x):\n",
        "        x1 = self.lin1(x)\n",
        "        x1 = F.tanh(x1)\n",
        "        x2 = self.lin2(x1)\n",
        "        x2 = F.tanh(x2)\n",
        "        x3 = self.lin3(x2)\n",
        "        x3 = F.tanh(x3)\n",
        "        x4 = self.lin4(x3)\n",
        "        # x4 = F.tanh(x) # As per assignment, removed tanh(activation fn from last layer)        \n",
        "        return x4"
      ],
      "execution_count": 56,
      "outputs": []
    },
    {
      "cell_type": "code",
      "metadata": {
        "colab": {
          "base_uri": "https://localhost:8080/"
        },
        "id": "8gQIQExYw65K",
        "outputId": "2256c780-5f1f-458a-9ee9-d76b1145b429"
      },
      "source": [
        "# print model summary\n",
        "model = XOR()\n",
        "print(model)\n",
        "from torchsummary import summary\n",
        "\n",
        "summary(model, (2,2))"
      ],
      "execution_count": 57,
      "outputs": [
        {
          "output_type": "stream",
          "name": "stdout",
          "text": [
            "XOR(\n",
            "  (lin1): Linear(in_features=2, out_features=4, bias=False)\n",
            "  (lin2): Linear(in_features=4, out_features=4, bias=False)\n",
            "  (lin3): Linear(in_features=4, out_features=4, bias=False)\n",
            "  (lin4): Linear(in_features=4, out_features=1, bias=False)\n",
            ")\n",
            "----------------------------------------------------------------\n",
            "        Layer (type)               Output Shape         Param #\n",
            "================================================================\n",
            "            Linear-1                 [-1, 2, 4]               8\n",
            "            Linear-2                 [-1, 2, 4]              16\n",
            "            Linear-3                 [-1, 2, 4]              16\n",
            "            Linear-4                 [-1, 2, 1]               4\n",
            "================================================================\n",
            "Total params: 44\n",
            "Trainable params: 44\n",
            "Non-trainable params: 0\n",
            "----------------------------------------------------------------\n",
            "Input size (MB): 0.00\n",
            "Forward/backward pass size (MB): 0.00\n",
            "Params size (MB): 0.00\n",
            "Estimated Total Size (MB): 0.00\n",
            "----------------------------------------------------------------\n"
          ]
        },
        {
          "output_type": "stream",
          "name": "stderr",
          "text": [
            "/usr/local/lib/python3.7/dist-packages/torch/nn/functional.py:1794: UserWarning: nn.functional.tanh is deprecated. Use torch.tanh instead.\n",
            "  warnings.warn(\"nn.functional.tanh is deprecated. Use torch.tanh instead.\")\n"
          ]
        }
      ]
    },
    {
      "cell_type": "markdown",
      "metadata": {
        "id": "SsUWGim0FMPv"
      },
      "source": [
        "## torchviz\n",
        "A small package to create visualizations of PyTorch execution graphs and traces. <br>\n",
        "Ref: <br>\n",
        "https://pypi.org/project/torchviz/ <br>\n",
        "https://github.com/szagoruyko/pytorchviz <br>"
      ]
    },
    {
      "cell_type": "code",
      "metadata": {
        "colab": {
          "base_uri": "https://localhost:8080/"
        },
        "id": "e6J7L4KCFdSV",
        "outputId": "798e3701-e3cb-411f-fd46-54e160b77bd4"
      },
      "source": [
        "!pip install torchviz\n"
      ],
      "execution_count": 58,
      "outputs": [
        {
          "output_type": "stream",
          "name": "stdout",
          "text": [
            "Requirement already satisfied: torchviz in /usr/local/lib/python3.7/dist-packages (0.0.2)\n",
            "Requirement already satisfied: graphviz in /usr/local/lib/python3.7/dist-packages (from torchviz) (0.10.1)\n",
            "Requirement already satisfied: torch in /usr/local/lib/python3.7/dist-packages (from torchviz) (1.9.0+cu102)\n",
            "Requirement already satisfied: typing-extensions in /usr/local/lib/python3.7/dist-packages (from torch->torchviz) (3.7.4.3)\n"
          ]
        }
      ]
    },
    {
      "cell_type": "code",
      "metadata": {
        "colab": {
          "base_uri": "https://localhost:8080/",
          "height": 973
        },
        "id": "n0gVZIzkFzEU",
        "outputId": "8f157247-48ed-4e9f-cb82-499d37f5aaa5"
      },
      "source": [
        "\n",
        "y_hat = model(X)\n",
        "make_dot(y_hat.mean(), params=dict(model.named_parameters()))\n",
        "\n"
      ],
      "execution_count": 59,
      "outputs": [
        {
          "output_type": "stream",
          "name": "stderr",
          "text": [
            "/usr/local/lib/python3.7/dist-packages/torch/nn/functional.py:1794: UserWarning: nn.functional.tanh is deprecated. Use torch.tanh instead.\n",
            "  warnings.warn(\"nn.functional.tanh is deprecated. Use torch.tanh instead.\")\n"
          ]
        },
        {
          "output_type": "execute_result",
          "data": {
            "text/plain": [
              "<graphviz.dot.Digraph at 0x7f541b4f5190>"
            ],
            "image/svg+xml": "<?xml version=\"1.0\" encoding=\"UTF-8\" standalone=\"no\"?>\n<!DOCTYPE svg PUBLIC \"-//W3C//DTD SVG 1.1//EN\"\n \"http://www.w3.org/Graphics/SVG/1.1/DTD/svg11.dtd\">\n<!-- Generated by graphviz version 2.40.1 (20161225.0304)\n -->\n<!-- Title: %3 Pages: 1 -->\n<svg width=\"412pt\" height=\"688pt\"\n viewBox=\"0.00 0.00 412.00 688.00\" xmlns=\"http://www.w3.org/2000/svg\" xmlns:xlink=\"http://www.w3.org/1999/xlink\">\n<g id=\"graph0\" class=\"graph\" transform=\"scale(1 1) rotate(0) translate(4 684)\">\n<title>%3</title>\n<polygon fill=\"#ffffff\" stroke=\"transparent\" points=\"-4,4 -4,-684 408,-684 408,4 -4,4\"/>\n<!-- 139999212723088 -->\n<g id=\"node1\" class=\"node\">\n<title>139999212723088</title>\n<polygon fill=\"#caff70\" stroke=\"#000000\" points=\"326.5,-31 272.5,-31 272.5,0 326.5,0 326.5,-31\"/>\n<text text-anchor=\"middle\" x=\"299.5\" y=\"-7\" font-family=\"monospace\" font-size=\"10.00\" fill=\"#000000\"> ()</text>\n</g>\n<!-- 139999212186256 -->\n<g id=\"node2\" class=\"node\">\n<title>139999212186256</title>\n<polygon fill=\"#d3d3d3\" stroke=\"#000000\" points=\"347,-86 252,-86 252,-67 347,-67 347,-86\"/>\n<text text-anchor=\"middle\" x=\"299.5\" y=\"-74\" font-family=\"monospace\" font-size=\"10.00\" fill=\"#000000\">MeanBackward0</text>\n</g>\n<!-- 139999212186256&#45;&gt;139999212723088 -->\n<g id=\"edge20\" class=\"edge\">\n<title>139999212186256&#45;&gt;139999212723088</title>\n<path fill=\"none\" stroke=\"#000000\" d=\"M299.5,-66.9688C299.5,-60.1289 299.5,-50.5621 299.5,-41.5298\"/>\n<polygon fill=\"#000000\" stroke=\"#000000\" points=\"303.0001,-41.3678 299.5,-31.3678 296.0001,-41.3678 303.0001,-41.3678\"/>\n</g>\n<!-- 139999212163408 -->\n<g id=\"node3\" class=\"node\">\n<title>139999212163408</title>\n<polygon fill=\"#d3d3d3\" stroke=\"#000000\" points=\"338,-141 261,-141 261,-122 338,-122 338,-141\"/>\n<text text-anchor=\"middle\" x=\"299.5\" y=\"-129\" font-family=\"monospace\" font-size=\"10.00\" fill=\"#000000\">MmBackward</text>\n</g>\n<!-- 139999212163408&#45;&gt;139999212186256 -->\n<g id=\"edge1\" class=\"edge\">\n<title>139999212163408&#45;&gt;139999212186256</title>\n<path fill=\"none\" stroke=\"#000000\" d=\"M299.5,-121.9197C299.5,-114.9083 299.5,-105.1442 299.5,-96.4652\"/>\n<polygon fill=\"#000000\" stroke=\"#000000\" points=\"303.0001,-96.3408 299.5,-86.3408 296.0001,-96.3409 303.0001,-96.3408\"/>\n</g>\n<!-- 139999212163536 -->\n<g id=\"node4\" class=\"node\">\n<title>139999212163536</title>\n<polygon fill=\"#d3d3d3\" stroke=\"#000000\" points=\"295,-196 206,-196 206,-177 295,-177 295,-196\"/>\n<text text-anchor=\"middle\" x=\"250.5\" y=\"-184\" font-family=\"monospace\" font-size=\"10.00\" fill=\"#000000\">TanhBackward</text>\n</g>\n<!-- 139999212163536&#45;&gt;139999212163408 -->\n<g id=\"edge2\" class=\"edge\">\n<title>139999212163536&#45;&gt;139999212163408</title>\n<path fill=\"none\" stroke=\"#000000\" d=\"M259.0351,-176.9197C265.9063,-169.2072 275.7449,-158.1639 284.0001,-148.8978\"/>\n<polygon fill=\"#000000\" stroke=\"#000000\" points=\"286.6939,-151.1357 290.7327,-141.3408 281.4673,-146.4792 286.6939,-151.1357\"/>\n</g>\n<!-- 139999212163664 -->\n<g id=\"node5\" class=\"node\">\n<title>139999212163664</title>\n<polygon fill=\"#d3d3d3\" stroke=\"#000000\" points=\"285,-251 208,-251 208,-232 285,-232 285,-251\"/>\n<text text-anchor=\"middle\" x=\"246.5\" y=\"-239\" font-family=\"monospace\" font-size=\"10.00\" fill=\"#000000\">MmBackward</text>\n</g>\n<!-- 139999212163664&#45;&gt;139999212163536 -->\n<g id=\"edge3\" class=\"edge\">\n<title>139999212163664&#45;&gt;139999212163536</title>\n<path fill=\"none\" stroke=\"#000000\" d=\"M247.1967,-231.9197C247.7067,-224.9083 248.4168,-215.1442 249.048,-206.4652\"/>\n<polygon fill=\"#000000\" stroke=\"#000000\" points=\"252.5496,-206.5684 249.7843,-196.3408 245.5681,-206.0606 252.5496,-206.5684\"/>\n</g>\n<!-- 139999212164048 -->\n<g id=\"node6\" class=\"node\">\n<title>139999212164048</title>\n<polygon fill=\"#d3d3d3\" stroke=\"#000000\" points=\"197,-311.5 108,-311.5 108,-292.5 197,-292.5 197,-311.5\"/>\n<text text-anchor=\"middle\" x=\"152.5\" y=\"-299.5\" font-family=\"monospace\" font-size=\"10.00\" fill=\"#000000\">TanhBackward</text>\n</g>\n<!-- 139999212164048&#45;&gt;139999212163664 -->\n<g id=\"edge4\" class=\"edge\">\n<title>139999212164048&#45;&gt;139999212163664</title>\n<path fill=\"none\" stroke=\"#000000\" d=\"M167.6027,-292.2796C182.5403,-282.6655 205.617,-267.813 222.961,-256.6501\"/>\n<polygon fill=\"#000000\" stroke=\"#000000\" points=\"224.9201,-259.5515 231.4348,-251.1962 221.1316,-253.6653 224.9201,-259.5515\"/>\n</g>\n<!-- 139999212163600 -->\n<g id=\"node7\" class=\"node\">\n<title>139999212163600</title>\n<polygon fill=\"#d3d3d3\" stroke=\"#000000\" points=\"187,-372 110,-372 110,-353 187,-353 187,-372\"/>\n<text text-anchor=\"middle\" x=\"148.5\" y=\"-360\" font-family=\"monospace\" font-size=\"10.00\" fill=\"#000000\">MmBackward</text>\n</g>\n<!-- 139999212163600&#45;&gt;139999212164048 -->\n<g id=\"edge5\" class=\"edge\">\n<title>139999212163600&#45;&gt;139999212164048</title>\n<path fill=\"none\" stroke=\"#000000\" d=\"M149.1427,-352.7796C149.6876,-344.5376 150.4871,-332.4457 151.1692,-322.129\"/>\n<polygon fill=\"#000000\" stroke=\"#000000\" points=\"154.6782,-322.1064 151.8456,-311.8972 147.6935,-321.6445 154.6782,-322.1064\"/>\n</g>\n<!-- 139999212164304 -->\n<g id=\"node8\" class=\"node\">\n<title>139999212164304</title>\n<polygon fill=\"#d3d3d3\" stroke=\"#000000\" points=\"99,-432.5 10,-432.5 10,-413.5 99,-413.5 99,-432.5\"/>\n<text text-anchor=\"middle\" x=\"54.5\" y=\"-420.5\" font-family=\"monospace\" font-size=\"10.00\" fill=\"#000000\">TanhBackward</text>\n</g>\n<!-- 139999212164304&#45;&gt;139999212163600 -->\n<g id=\"edge6\" class=\"edge\">\n<title>139999212164304&#45;&gt;139999212163600</title>\n<path fill=\"none\" stroke=\"#000000\" d=\"M69.6027,-413.2796C84.5403,-403.6655 107.617,-388.813 124.961,-377.6501\"/>\n<polygon fill=\"#000000\" stroke=\"#000000\" points=\"126.9201,-380.5515 133.4348,-372.1962 123.1316,-374.6653 126.9201,-380.5515\"/>\n</g>\n<!-- 139999212163984 -->\n<g id=\"node9\" class=\"node\">\n<title>139999212163984</title>\n<polygon fill=\"#d3d3d3\" stroke=\"#000000\" points=\"89,-493 12,-493 12,-474 89,-474 89,-493\"/>\n<text text-anchor=\"middle\" x=\"50.5\" y=\"-481\" font-family=\"monospace\" font-size=\"10.00\" fill=\"#000000\">MmBackward</text>\n</g>\n<!-- 139999212163984&#45;&gt;139999212164304 -->\n<g id=\"edge7\" class=\"edge\">\n<title>139999212163984&#45;&gt;139999212164304</title>\n<path fill=\"none\" stroke=\"#000000\" d=\"M51.1427,-473.7796C51.6876,-465.5376 52.4871,-453.4457 53.1692,-443.129\"/>\n<polygon fill=\"#000000\" stroke=\"#000000\" points=\"56.6782,-443.1064 53.8456,-432.8972 49.6935,-442.6445 56.6782,-443.1064\"/>\n</g>\n<!-- 139999212164624 -->\n<g id=\"node10\" class=\"node\">\n<title>139999212164624</title>\n<polygon fill=\"#d3d3d3\" stroke=\"#000000\" points=\"86,-553.5 15,-553.5 15,-534.5 86,-534.5 86,-553.5\"/>\n<text text-anchor=\"middle\" x=\"50.5\" y=\"-541.5\" font-family=\"monospace\" font-size=\"10.00\" fill=\"#000000\">TBackward</text>\n</g>\n<!-- 139999212164624&#45;&gt;139999212163984 -->\n<g id=\"edge8\" class=\"edge\">\n<title>139999212164624&#45;&gt;139999212163984</title>\n<path fill=\"none\" stroke=\"#000000\" d=\"M50.5,-534.2796C50.5,-526.0376 50.5,-513.9457 50.5,-503.629\"/>\n<polygon fill=\"#000000\" stroke=\"#000000\" points=\"54.0001,-503.3972 50.5,-493.3972 47.0001,-503.3973 54.0001,-503.3972\"/>\n</g>\n<!-- 139999212164752 -->\n<g id=\"node11\" class=\"node\">\n<title>139999212164752</title>\n<polygon fill=\"#d3d3d3\" stroke=\"#000000\" points=\"101,-614 0,-614 0,-595 101,-595 101,-614\"/>\n<text text-anchor=\"middle\" x=\"50.5\" y=\"-602\" font-family=\"monospace\" font-size=\"10.00\" fill=\"#000000\">AccumulateGrad</text>\n</g>\n<!-- 139999212164752&#45;&gt;139999212164624 -->\n<g id=\"edge9\" class=\"edge\">\n<title>139999212164752&#45;&gt;139999212164624</title>\n<path fill=\"none\" stroke=\"#000000\" d=\"M50.5,-594.7796C50.5,-586.5376 50.5,-574.4457 50.5,-564.129\"/>\n<polygon fill=\"#000000\" stroke=\"#000000\" points=\"54.0001,-563.8972 50.5,-553.8972 47.0001,-563.8973 54.0001,-563.8972\"/>\n</g>\n<!-- 139999220065536 -->\n<g id=\"node12\" class=\"node\">\n<title>139999220065536</title>\n<polygon fill=\"#add8e6\" stroke=\"#000000\" points=\"92,-680 9,-680 9,-650 92,-650 92,-680\"/>\n<text text-anchor=\"middle\" x=\"50.5\" y=\"-668\" font-family=\"monospace\" font-size=\"10.00\" fill=\"#000000\">lin1.weight</text>\n<text text-anchor=\"middle\" x=\"50.5\" y=\"-657\" font-family=\"monospace\" font-size=\"10.00\" fill=\"#000000\"> (4, 2)</text>\n</g>\n<!-- 139999220065536&#45;&gt;139999212164752 -->\n<g id=\"edge10\" class=\"edge\">\n<title>139999220065536&#45;&gt;139999212164752</title>\n<path fill=\"none\" stroke=\"#000000\" d=\"M50.5,-649.7333C50.5,-642.0322 50.5,-632.5977 50.5,-624.3414\"/>\n<polygon fill=\"#000000\" stroke=\"#000000\" points=\"54.0001,-624.0864 50.5,-614.0864 47.0001,-624.0864 54.0001,-624.0864\"/>\n</g>\n<!-- 139999212164496 -->\n<g id=\"node13\" class=\"node\">\n<title>139999212164496</title>\n<polygon fill=\"#d3d3d3\" stroke=\"#000000\" points=\"190,-432.5 119,-432.5 119,-413.5 190,-413.5 190,-432.5\"/>\n<text text-anchor=\"middle\" x=\"154.5\" y=\"-420.5\" font-family=\"monospace\" font-size=\"10.00\" fill=\"#000000\">TBackward</text>\n</g>\n<!-- 139999212164496&#45;&gt;139999212163600 -->\n<g id=\"edge11\" class=\"edge\">\n<title>139999212164496&#45;&gt;139999212163600</title>\n<path fill=\"none\" stroke=\"#000000\" d=\"M153.536,-413.2796C152.7186,-405.0376 151.5194,-392.9457 150.4963,-382.629\"/>\n<polygon fill=\"#000000\" stroke=\"#000000\" points=\"153.9514,-382.003 149.4815,-372.3972 146.9856,-382.6939 153.9514,-382.003\"/>\n</g>\n<!-- 139999212164688 -->\n<g id=\"node14\" class=\"node\">\n<title>139999212164688</title>\n<polygon fill=\"#d3d3d3\" stroke=\"#000000\" points=\"208,-493 107,-493 107,-474 208,-474 208,-493\"/>\n<text text-anchor=\"middle\" x=\"157.5\" y=\"-481\" font-family=\"monospace\" font-size=\"10.00\" fill=\"#000000\">AccumulateGrad</text>\n</g>\n<!-- 139999212164688&#45;&gt;139999212164496 -->\n<g id=\"edge12\" class=\"edge\">\n<title>139999212164688&#45;&gt;139999212164496</title>\n<path fill=\"none\" stroke=\"#000000\" d=\"M157.018,-473.7796C156.6093,-465.5376 156.0097,-453.4457 155.4981,-443.129\"/>\n<polygon fill=\"#000000\" stroke=\"#000000\" points=\"158.9818,-442.7116 154.9908,-432.8972 151.9904,-443.0583 158.9818,-442.7116\"/>\n</g>\n<!-- 139999220066176 -->\n<g id=\"node15\" class=\"node\">\n<title>139999220066176</title>\n<polygon fill=\"#add8e6\" stroke=\"#000000\" points=\"199,-559 116,-559 116,-529 199,-529 199,-559\"/>\n<text text-anchor=\"middle\" x=\"157.5\" y=\"-547\" font-family=\"monospace\" font-size=\"10.00\" fill=\"#000000\">lin2.weight</text>\n<text text-anchor=\"middle\" x=\"157.5\" y=\"-536\" font-family=\"monospace\" font-size=\"10.00\" fill=\"#000000\"> (4, 4)</text>\n</g>\n<!-- 139999220066176&#45;&gt;139999212164688 -->\n<g id=\"edge13\" class=\"edge\">\n<title>139999220066176&#45;&gt;139999212164688</title>\n<path fill=\"none\" stroke=\"#000000\" d=\"M157.5,-528.7333C157.5,-521.0322 157.5,-511.5977 157.5,-503.3414\"/>\n<polygon fill=\"#000000\" stroke=\"#000000\" points=\"161.0001,-503.0864 157.5,-493.0864 154.0001,-503.0864 161.0001,-503.0864\"/>\n</g>\n<!-- 139999212164240 -->\n<g id=\"node16\" class=\"node\">\n<title>139999212164240</title>\n<polygon fill=\"#d3d3d3\" stroke=\"#000000\" points=\"288,-311.5 217,-311.5 217,-292.5 288,-292.5 288,-311.5\"/>\n<text text-anchor=\"middle\" x=\"252.5\" y=\"-299.5\" font-family=\"monospace\" font-size=\"10.00\" fill=\"#000000\">TBackward</text>\n</g>\n<!-- 139999212164240&#45;&gt;139999212163664 -->\n<g id=\"edge14\" class=\"edge\">\n<title>139999212164240&#45;&gt;139999212163664</title>\n<path fill=\"none\" stroke=\"#000000\" d=\"M251.536,-292.2796C250.7186,-284.0376 249.5194,-271.9457 248.4963,-261.629\"/>\n<polygon fill=\"#000000\" stroke=\"#000000\" points=\"251.9514,-261.003 247.4815,-251.3972 244.9856,-261.6939 251.9514,-261.003\"/>\n</g>\n<!-- 139999212164368 -->\n<g id=\"node17\" class=\"node\">\n<title>139999212164368</title>\n<polygon fill=\"#d3d3d3\" stroke=\"#000000\" points=\"306,-372 205,-372 205,-353 306,-353 306,-372\"/>\n<text text-anchor=\"middle\" x=\"255.5\" y=\"-360\" font-family=\"monospace\" font-size=\"10.00\" fill=\"#000000\">AccumulateGrad</text>\n</g>\n<!-- 139999212164368&#45;&gt;139999212164240 -->\n<g id=\"edge15\" class=\"edge\">\n<title>139999212164368&#45;&gt;139999212164240</title>\n<path fill=\"none\" stroke=\"#000000\" d=\"M255.018,-352.7796C254.6093,-344.5376 254.0097,-332.4457 253.4981,-322.129\"/>\n<polygon fill=\"#000000\" stroke=\"#000000\" points=\"256.9818,-321.7116 252.9908,-311.8972 249.9904,-322.0583 256.9818,-321.7116\"/>\n</g>\n<!-- 139999220064496 -->\n<g id=\"node18\" class=\"node\">\n<title>139999220064496</title>\n<polygon fill=\"#add8e6\" stroke=\"#000000\" points=\"297,-438 214,-438 214,-408 297,-408 297,-438\"/>\n<text text-anchor=\"middle\" x=\"255.5\" y=\"-426\" font-family=\"monospace\" font-size=\"10.00\" fill=\"#000000\">lin3.weight</text>\n<text text-anchor=\"middle\" x=\"255.5\" y=\"-415\" font-family=\"monospace\" font-size=\"10.00\" fill=\"#000000\"> (4, 4)</text>\n</g>\n<!-- 139999220064496&#45;&gt;139999212164368 -->\n<g id=\"edge16\" class=\"edge\">\n<title>139999220064496&#45;&gt;139999212164368</title>\n<path fill=\"none\" stroke=\"#000000\" d=\"M255.5,-407.7333C255.5,-400.0322 255.5,-390.5977 255.5,-382.3414\"/>\n<polygon fill=\"#000000\" stroke=\"#000000\" points=\"259.0001,-382.0864 255.5,-372.0864 252.0001,-382.0864 259.0001,-382.0864\"/>\n</g>\n<!-- 139999212163856 -->\n<g id=\"node19\" class=\"node\">\n<title>139999212163856</title>\n<polygon fill=\"#d3d3d3\" stroke=\"#000000\" points=\"386,-196 315,-196 315,-177 386,-177 386,-196\"/>\n<text text-anchor=\"middle\" x=\"350.5\" y=\"-184\" font-family=\"monospace\" font-size=\"10.00\" fill=\"#000000\">TBackward</text>\n</g>\n<!-- 139999212163856&#45;&gt;139999212163408 -->\n<g id=\"edge17\" class=\"edge\">\n<title>139999212163856&#45;&gt;139999212163408</title>\n<path fill=\"none\" stroke=\"#000000\" d=\"M341.6165,-176.9197C334.4648,-169.2072 324.2247,-158.1639 315.6325,-148.8978\"/>\n<polygon fill=\"#000000\" stroke=\"#000000\" points=\"317.991,-146.2937 308.6251,-141.3408 312.8581,-151.0533 317.991,-146.2937\"/>\n</g>\n<!-- 139999212164112 -->\n<g id=\"node20\" class=\"node\">\n<title>139999212164112</title>\n<polygon fill=\"#d3d3d3\" stroke=\"#000000\" points=\"404,-251 303,-251 303,-232 404,-232 404,-251\"/>\n<text text-anchor=\"middle\" x=\"353.5\" y=\"-239\" font-family=\"monospace\" font-size=\"10.00\" fill=\"#000000\">AccumulateGrad</text>\n</g>\n<!-- 139999212164112&#45;&gt;139999212163856 -->\n<g id=\"edge18\" class=\"edge\">\n<title>139999212164112&#45;&gt;139999212163856</title>\n<path fill=\"none\" stroke=\"#000000\" d=\"M352.9774,-231.9197C352.595,-224.9083 352.0624,-215.1442 351.589,-206.4652\"/>\n<polygon fill=\"#000000\" stroke=\"#000000\" points=\"355.0763,-206.1353 351.0368,-196.3408 348.0867,-206.5166 355.0763,-206.1353\"/>\n</g>\n<!-- 139999220066256 -->\n<g id=\"node21\" class=\"node\">\n<title>139999220066256</title>\n<polygon fill=\"#add8e6\" stroke=\"#000000\" points=\"395,-317 312,-317 312,-287 395,-287 395,-317\"/>\n<text text-anchor=\"middle\" x=\"353.5\" y=\"-305\" font-family=\"monospace\" font-size=\"10.00\" fill=\"#000000\">lin4.weight</text>\n<text text-anchor=\"middle\" x=\"353.5\" y=\"-294\" font-family=\"monospace\" font-size=\"10.00\" fill=\"#000000\"> (1, 4)</text>\n</g>\n<!-- 139999220066256&#45;&gt;139999212164112 -->\n<g id=\"edge19\" class=\"edge\">\n<title>139999220066256&#45;&gt;139999212164112</title>\n<path fill=\"none\" stroke=\"#000000\" d=\"M353.5,-286.7333C353.5,-279.0322 353.5,-269.5977 353.5,-261.3414\"/>\n<polygon fill=\"#000000\" stroke=\"#000000\" points=\"357.0001,-261.0864 353.5,-251.0864 350.0001,-261.0864 357.0001,-261.0864\"/>\n</g>\n</g>\n</svg>\n"
          },
          "metadata": {},
          "execution_count": 59
        }
      ]
    },
    {
      "cell_type": "code",
      "metadata": {
        "id": "yeotEq19x6XF"
      },
      "source": [
        "def weights_init(model):\n",
        "    for m in model.modules():\n",
        "        if isinstance(m, nn.Linear):\n",
        "            # initialize the weight tensor, here we use a normal distribution\n",
        "            m.weight.data.normal_(0, 1)\n",
        "\n",
        "weights_init(model)"
      ],
      "execution_count": 60,
      "outputs": []
    },
    {
      "cell_type": "code",
      "metadata": {
        "id": "WrD_sNzLx78e"
      },
      "source": [
        "loss_func = nn.L1Loss()"
      ],
      "execution_count": 61,
      "outputs": []
    },
    {
      "cell_type": "code",
      "metadata": {
        "id": "-zvbrMd2x_lA"
      },
      "source": [
        "optimizer = optim.SGD(model.parameters(), lr=0.02, momentum=0.9)\n"
      ],
      "execution_count": 62,
      "outputs": []
    },
    {
      "cell_type": "code",
      "metadata": {
        "colab": {
          "base_uri": "https://localhost:8080/"
        },
        "id": "q7tWa3D7yA5X",
        "outputId": "53169d42-4cd3-4a5e-b9c2-1cdec3ef9b67"
      },
      "source": [
        "epochs = 2001\n",
        "steps = X.size(0)\n",
        "for i in range(epochs):\n",
        "    for j in range(steps):\n",
        "        data_point = np.random.randint(X.size(0))\n",
        "        x_var = Variable(X[data_point], requires_grad=False)\n",
        "        y_var = Variable(Y[data_point], requires_grad=False)\n",
        "        \n",
        "        optimizer.zero_grad()\n",
        "        y_hat = model(x_var)\n",
        "        loss = loss_func.forward(y_hat, y_var)\n",
        "        loss.backward()\n",
        "        optimizer.step()\n",
        "        \n",
        "    if i % 50 == 0:\n",
        "        print( \"Epoch: {0}, Loss: {1}, \".format(i, loss.data.numpy()))"
      ],
      "execution_count": 63,
      "outputs": [
        {
          "output_type": "stream",
          "name": "stderr",
          "text": [
            "/usr/local/lib/python3.7/dist-packages/torch/nn/functional.py:1794: UserWarning: nn.functional.tanh is deprecated. Use torch.tanh instead.\n",
            "  warnings.warn(\"nn.functional.tanh is deprecated. Use torch.tanh instead.\")\n"
          ]
        },
        {
          "output_type": "stream",
          "name": "stdout",
          "text": [
            "Epoch: 0, Loss: 1.1030948162078857, \n",
            "Epoch: 50, Loss: 0.41433537006378174, \n",
            "Epoch: 100, Loss: 0.0053980350494384766, \n",
            "Epoch: 150, Loss: 0.0, \n",
            "Epoch: 200, Loss: 0.32950276136398315, \n",
            "Epoch: 250, Loss: 0.0, \n",
            "Epoch: 300, Loss: 0.0, \n",
            "Epoch: 350, Loss: 0.0, \n",
            "Epoch: 400, Loss: 0.12558186054229736, \n",
            "Epoch: 450, Loss: 0.0816851258277893, \n",
            "Epoch: 500, Loss: 0.07624459266662598, \n",
            "Epoch: 550, Loss: 0.031116724014282227, \n",
            "Epoch: 600, Loss: 0.0, \n",
            "Epoch: 650, Loss: 0.08988654613494873, \n",
            "Epoch: 700, Loss: 0.05684204399585724, \n",
            "Epoch: 750, Loss: 0.0, \n",
            "Epoch: 800, Loss: 0.10204732418060303, \n",
            "Epoch: 850, Loss: 0.0580272376537323, \n",
            "Epoch: 900, Loss: 0.0, \n",
            "Epoch: 950, Loss: 0.0, \n",
            "Epoch: 1000, Loss: 0.038263678550720215, \n",
            "Epoch: 1050, Loss: 0.0204392671585083, \n",
            "Epoch: 1100, Loss: 0.0, \n",
            "Epoch: 1150, Loss: 0.04348587989807129, \n",
            "Epoch: 1200, Loss: 0.09081804752349854, \n",
            "Epoch: 1250, Loss: 0.09674465656280518, \n",
            "Epoch: 1300, Loss: 0.0, \n",
            "Epoch: 1350, Loss: 0.0, \n",
            "Epoch: 1400, Loss: 0.32269442081451416, \n",
            "Epoch: 1450, Loss: 0.0, \n",
            "Epoch: 1500, Loss: 0.2740176320075989, \n",
            "Epoch: 1550, Loss: 0.020105600357055664, \n",
            "Epoch: 1600, Loss: 0.0, \n",
            "Epoch: 1650, Loss: 0.0, \n",
            "Epoch: 1700, Loss: 0.0239085853099823, \n",
            "Epoch: 1750, Loss: 0.07282567024230957, \n",
            "Epoch: 1800, Loss: 0.09866255521774292, \n",
            "Epoch: 1850, Loss: 0.05532944202423096, \n",
            "Epoch: 1900, Loss: 0.0, \n",
            "Epoch: 1950, Loss: 0.07577270269393921, \n",
            "Epoch: 2000, Loss: 0.1055147647857666, \n"
          ]
        }
      ]
    },
    {
      "cell_type": "code",
      "metadata": {
        "id": "QV0dIdveyCRi"
      },
      "source": [
        ""
      ],
      "execution_count": null,
      "outputs": []
    }
  ]
}